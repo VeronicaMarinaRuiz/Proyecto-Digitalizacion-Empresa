{
 "cells": [
  {
   "cell_type": "code",
   "execution_count": null,
   "metadata": {},
   "outputs": [],
   "source": [
    "# importamos las librerias necesarias\n",
    "import os                   \n",
    "from os import getcwd"
   ]
  },
  {
   "cell_type": "code",
   "execution_count": null,
   "metadata": {},
   "outputs": [],
   "source": [
    "# Creamos una clase para automatizar la limpieza y apertura de los datos\n",
    "# definimos el constructor\n",
    "class ListaAutomaticaTxt:               \n",
    "    def __init__(self, ruta):\n",
    "        self.ruta = ruta\n",
    "        \n",
    "    \n",
    "# Definimos el método de apertura del archivo, que nos devuelve el contenido del archivo en el return\n",
    "    def apertura(self):\n",
    "        with open(self.ruta) as file:\n",
    "            file_source = file.readlines()\n",
    "\n",
    "        return file_source\n",
    "\n",
    "\n",
    "\n",
    "# Definimos el método de limpieza del archivo, el cual nos devolverá una lista de tuplas en el return\n",
    "    def limpieza_txt(self, lista_sin_limpiar):\n",
    "       \n",
    "        lista2 = []\n",
    "\n",
    "        for string in lista_sin_limpiar:\n",
    "          string = string.replace(\"\\n\", \"\").replace('<', \"under\").replace('null', 'NULL').strip()\n",
    "          \n",
    "          lista_split = string.split(\";\")  \n",
    "          lista2.append(lista_split)\n",
    "        \n",
    "\n",
    "        lista3 = []\n",
    "\n",
    "        for lista in lista2:\n",
    "            tuplas = tuple(lista)\n",
    "            lista3.append(tuplas)\n",
    "        \n",
    "        return lista3[1:]"
   ]
  },
  {
   "cell_type": "code",
   "execution_count": null,
   "metadata": {},
   "outputs": [],
   "source": [
    "archivo = ListaAutomaticaTxt('../datos/data_txt.txt')"
   ]
  },
  {
   "cell_type": "code",
   "execution_count": null,
   "metadata": {},
   "outputs": [],
   "source": [
    "x = archivo.apertura()"
   ]
  },
  {
   "cell_type": "code",
   "execution_count": null,
   "metadata": {},
   "outputs": [],
   "source": [
    "archivo_limpio_txt = archivo.limpieza_txt(x)"
   ]
  },
  {
   "cell_type": "code",
   "execution_count": null,
   "metadata": {},
   "outputs": [],
   "source": [
    "archivo_limpio_txt "
   ]
  },
  {
   "cell_type": "code",
   "execution_count": null,
   "metadata": {},
   "outputs": [],
   "source": [
    "import mysql.connector"
   ]
  },
  {
   "cell_type": "code",
   "execution_count": null,
   "metadata": {},
   "outputs": [],
   "source": [
    "# Establecemos la conexión con la base de datos en SQL y realizamos la inserción de datos en la tabla txt\n",
    "cnx = mysql.connector.connect(user='root', password='AlumnaAdalab',                     \n",
    "                              host='127.0.0.1', database='da_proyecto_modulo1')\n",
    "\n",
    "\n",
    "mycursor = cnx.cursor()\n",
    "sql = \"\"\"INSERT INTO tabla_txt (\n",
    "index_sql,\n",
    "q3, \n",
    "q4, \n",
    "q5, \n",
    "q6, \n",
    "q7, \n",
    "q8, \n",
    "q9, \n",
    "q11, \n",
    "q12, \n",
    "q13, \n",
    "q14, \n",
    "q15, \n",
    "q16, \n",
    "q17, \n",
    "q20, \n",
    "q21, \n",
    "q22, \n",
    "q23, \n",
    "q24, \n",
    "q25,\n",
    "q26, \n",
    "q32, \n",
    "q33, \n",
    "q34, \n",
    "q35, \n",
    "q41) VALUES (%s,%s, %s, %s, %s, %s, %s, %s, %s, %s, %s, %s, %s, %s, %s, %s, %s, %s, %s, %s, %s, %s, %s, %s, %s, %s, %s)\"\"\"\n",
    "val = archivo_limpio_txt\n",
    "\n",
    "try: \n",
    "    mycursor.executemany(sql, val)\n",
    "    cnx.commit()\n",
    "    print(mycursor.rowcount, \"registro/s insertado/s.\")\n",
    "\n",
    "except mysql.connector.Error as err:\n",
    "    print(err)\n",
    "    print(\"Error Code:\", err.errno)\n",
    "    print(\"SQLSTATE\", err.sqlstate)\n",
    "    print(\"Message\", err.msg)"
   ]
  }
 ],
 "metadata": {
  "kernelspec": {
   "display_name": "base",
   "language": "python",
   "name": "python3"
  },
  "language_info": {
   "codemirror_mode": {
    "name": "ipython",
    "version": 3
   },
   "file_extension": ".py",
   "mimetype": "text/x-python",
   "name": "python",
   "nbconvert_exporter": "python",
   "pygments_lexer": "ipython3",
   "version": "3.10.9"
  },
  "orig_nbformat": 4
 },
 "nbformat": 4,
 "nbformat_minor": 2
}
