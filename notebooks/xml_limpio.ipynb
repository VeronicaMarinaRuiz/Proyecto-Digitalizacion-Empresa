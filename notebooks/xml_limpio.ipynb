{
 "cells": [
  {
   "cell_type": "code",
   "execution_count": null,
   "metadata": {},
   "outputs": [],
   "source": [
    "# Importamos la librería que necesitamos para el archivo xml\n",
    "import xml.etree.ElementTree as ET \n",
    "import os"
   ]
  },
  {
   "cell_type": "code",
   "execution_count": null,
   "metadata": {},
   "outputs": [],
   "source": [
    "# Creamos una clase para automatizar la limpieza y apertura de los datos\n",
    "# definimos el constructor\n",
    "class ListaAutomatica:\n",
    "    def __init__(self, ruta, nombre_archivo):\n",
    "        self.ruta = ruta\n",
    "        self.nombre_archivo = nombre_archivo\n",
    "    \n",
    "# Definimos el método de apertura del archivo, que nos devuelve el contenido del archivo en el return\n",
    "    def apertura(self):\n",
    "        tree = ET.parse(self.ruta + self.nombre_archivo)\n",
    "        root = tree.getroot()\n",
    "\n",
    "\n",
    "        xml_list = []\n",
    "        for child in root:\n",
    "            xml_dict = {}\n",
    "            for subchild in child:\n",
    "                xml_dict[subchild.tag] = subchild.text\n",
    "            xml_list.append(xml_dict)\n",
    "        return xml_list\n",
    "\n",
    "\n",
    "# Definimos el método de limpieza del archivo, el cual nos devolverá una lista de tuplas en el return\n",
    "    def limpieza_xml(self, lista):                  \n",
    "        self.lista = lista \n",
    "        lista_tuplas = []\n",
    "        \n",
    "        for i in lista: \n",
    "            i.pop('level_0')\n",
    "            if i.get('gender') == '0':\n",
    "                i['gender'] = 'Man'\n",
    "\n",
    "            elif i.get('gender') == '1':\n",
    "                i['gender'] = 'Woman'\n",
    "\n",
    "            elif i.get('gender') == '2':\n",
    "                i['gender'] = 'Nonbinary'\n",
    "            \n",
    "            elif i.get('gender') == '3':\n",
    "                i['gender'] = 'Prefer not to say'\n",
    "\n",
    "            elif i.get('gender') == '4':\n",
    "                i['gender'] = 'Prefer to self-describe'\n",
    "\n",
    "        for diccionario in lista:\n",
    "            xml_automatizado = tuple(diccionario.values())\n",
    "            lista_tuplas.append(xml_automatizado)\n",
    "        \n",
    "        lista_final = []\n",
    "\n",
    "        for i in lista_tuplas:\n",
    "\n",
    "            lista_i = list(i)\n",
    "            lista_i.append(lista_i[0])\n",
    "            tupla_i = tuple(lista_i)\n",
    "            lista_final.append(tupla_i)\n",
    "        \n",
    "        return lista_final"
   ]
  },
  {
   "cell_type": "code",
   "execution_count": null,
   "metadata": {},
   "outputs": [],
   "source": [
    "archivo_xml = ListaAutomatica('../datos/', 'data_xml.xml')"
   ]
  },
  {
   "cell_type": "code",
   "execution_count": null,
   "metadata": {},
   "outputs": [],
   "source": [
    "archivo_xml.ruta"
   ]
  },
  {
   "cell_type": "code",
   "execution_count": null,
   "metadata": {},
   "outputs": [],
   "source": [
    "lista_xml = archivo_xml.apertura()"
   ]
  },
  {
   "cell_type": "code",
   "execution_count": null,
   "metadata": {},
   "outputs": [],
   "source": [
    "archivo_limpio_xml = archivo_xml.limpieza_xml(lista_xml)"
   ]
  },
  {
   "cell_type": "code",
   "execution_count": null,
   "metadata": {},
   "outputs": [],
   "source": [
    "archivo_limpio_xml"
   ]
  },
  {
   "cell_type": "code",
   "execution_count": null,
   "metadata": {},
   "outputs": [],
   "source": [
    "import mysql.connector"
   ]
  },
  {
   "cell_type": "code",
   "execution_count": null,
   "metadata": {},
   "outputs": [],
   "source": [
    "# Establecemos la conexión con la base de datos en SQL y realizamos la inserción de datos en la tabla xml\n",
    "cnx = mysql.connector.connect(user='root', password='AlumnaAdalab',\n",
    "                              host='127.0.0.1', database='da_proyecto_modulo1')\n",
    "\n",
    "\n",
    "mycursor = cnx.cursor()\n",
    "sql = \"\"\"INSERT INTO tabla_xml (\n",
    "index_xml,\n",
    "time,\n",
    "age,\n",
    "gender,\n",
    "index_sql\n",
    ") VALUES (%s,%s,%s,%s,%s)\"\"\"\n",
    "val = archivo_limpio_xml\n",
    "\n",
    "try: \n",
    "    mycursor.executemany(sql, val)\n",
    "    cnx.commit()\n",
    "    print(mycursor.rowcount, \"registro/s insertado/s.\")\n",
    "\n",
    "except mysql.connector.Error as err:\n",
    "    print(err)\n",
    "    print(\"Error Code:\", err.errno)\n",
    "    print(\"SQLSTATE\", err.sqlstate)\n",
    "    print(\"Message\", err.msg)"
   ]
  }
 ],
 "metadata": {
  "kernelspec": {
   "display_name": "base",
   "language": "python",
   "name": "python3"
  },
  "language_info": {
   "codemirror_mode": {
    "name": "ipython",
    "version": 3
   },
   "file_extension": ".py",
   "mimetype": "text/x-python",
   "name": "python",
   "nbconvert_exporter": "python",
   "pygments_lexer": "ipython3",
   "version": "3.10.9"
  },
  "orig_nbformat": 4
 },
 "nbformat": 4,
 "nbformat_minor": 2
}
